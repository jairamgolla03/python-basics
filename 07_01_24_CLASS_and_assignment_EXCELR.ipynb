{
  "nbformat": 4,
  "nbformat_minor": 0,
  "metadata": {
    "colab": {
      "provenance": []
    },
    "kernelspec": {
      "name": "python3",
      "display_name": "Python 3"
    },
    "language_info": {
      "name": "python"
    }
  },
  "cells": [
    {
      "cell_type": "code",
      "execution_count": 1,
      "metadata": {
        "colab": {
          "base_uri": "https://localhost:8080/"
        },
        "id": "4aCVpqK46Q6Z",
        "outputId": "807d52a5-dcf5-4f65-f2d6-2f4d46361e08"
      },
      "outputs": [
        {
          "output_type": "stream",
          "name": "stdout",
          "text": [
            "['__add__', '__class__', '__contains__', '__delattr__', '__dir__', '__doc__', '__eq__', '__format__', '__ge__', '__getattribute__', '__getitem__', '__getnewargs__', '__gt__', '__hash__', '__init__', '__init_subclass__', '__iter__', '__le__', '__len__', '__lt__', '__mod__', '__mul__', '__ne__', '__new__', '__reduce__', '__reduce_ex__', '__repr__', '__rmod__', '__rmul__', '__setattr__', '__sizeof__', '__str__', '__subclasshook__', 'capitalize', 'casefold', 'center', 'count', 'encode', 'endswith', 'expandtabs', 'find', 'format', 'format_map', 'index', 'isalnum', 'isalpha', 'isascii', 'isdecimal', 'isdigit', 'isidentifier', 'islower', 'isnumeric', 'isprintable', 'isspace', 'istitle', 'isupper', 'join', 'ljust', 'lower', 'lstrip', 'maketrans', 'partition', 'removeprefix', 'removesuffix', 'replace', 'rfind', 'rindex', 'rjust', 'rpartition', 'rsplit', 'rstrip', 'split', 'splitlines', 'startswith', 'strip', 'swapcase', 'title', 'translate', 'upper', 'zfill']\n"
          ]
        }
      ],
      "source": [
        "print(dir(str))"
      ]
    },
    {
      "cell_type": "code",
      "source": [
        "a= 'hello world!'\n",
        "b= a.upper()\n",
        "c=a.swapcase()\n",
        "print(b)\n",
        "print(c)"
      ],
      "metadata": {
        "colab": {
          "base_uri": "https://localhost:8080/"
        },
        "id": "KgROWEJH7XKR",
        "outputId": "77cf897c-6f22-46ea-da6e-305e1f504cbf"
      },
      "execution_count": 4,
      "outputs": [
        {
          "output_type": "stream",
          "name": "stdout",
          "text": [
            "HELLO WORLD!\n",
            "HELLO WORLD!\n"
          ]
        }
      ]
    },
    {
      "cell_type": "code",
      "source": [
        "b=a.title()\n",
        "print(b)"
      ],
      "metadata": {
        "colab": {
          "base_uri": "https://localhost:8080/"
        },
        "id": "WJOItJO97wuR",
        "outputId": "f097ca7a-34b1-4853-d50b-7662f0e5abf4"
      },
      "execution_count": 6,
      "outputs": [
        {
          "output_type": "stream",
          "name": "stdout",
          "text": [
            "Hello World!\n"
          ]
        }
      ]
    },
    {
      "cell_type": "code",
      "source": [
        "a = \"hello world\"\n",
        "b= a.replace('hello','hi')\n",
        "print(b)"
      ],
      "metadata": {
        "colab": {
          "base_uri": "https://localhost:8080/"
        },
        "id": "z34JF5XC75JL",
        "outputId": "b3b1701d-db79-45cc-c98b-fe1b96767507"
      },
      "execution_count": 13,
      "outputs": [
        {
          "output_type": "stream",
          "name": "stdout",
          "text": [
            "hi world\n"
          ]
        }
      ]
    },
    {
      "cell_type": "code",
      "source": [
        "a='123edr'\n",
        "b = a.isdigit()\n",
        "print(b)"
      ],
      "metadata": {
        "colab": {
          "base_uri": "https://localhost:8080/"
        },
        "id": "w7Wng4WU9Wi3",
        "outputId": "cd154786-ddef-42e1-b9b2-670accb5dcf7"
      },
      "execution_count": 15,
      "outputs": [
        {
          "output_type": "stream",
          "name": "stdout",
          "text": [
            "False\n"
          ]
        }
      ]
    },
    {
      "cell_type": "code",
      "source": [
        "a= range(10)\n",
        "b=list(a)\n",
        "print(b)\n",
        "print(a)"
      ],
      "metadata": {
        "colab": {
          "base_uri": "https://localhost:8080/"
        },
        "id": "RqA2Vbdy9iAL",
        "outputId": "264eb7e1-2e05-4d65-a3b9-2cd3d4aaf514"
      },
      "execution_count": 16,
      "outputs": [
        {
          "output_type": "stream",
          "name": "stdout",
          "text": [
            "[0, 1, 2, 3, 4, 5, 6, 7, 8, 9]\n",
            "range(0, 10)\n"
          ]
        }
      ]
    },
    {
      "cell_type": "code",
      "source": [
        "#slicing extraction of elements\n",
        "# start stop then steps\n",
        "my_list=list(range(5,15,2))\n",
        "print(my_list)"
      ],
      "metadata": {
        "colab": {
          "base_uri": "https://localhost:8080/"
        },
        "id": "4rKnEWI19yh5",
        "outputId": "8deb5a8c-a417-4928-8ee1-9074c1153848"
      },
      "execution_count": 17,
      "outputs": [
        {
          "output_type": "stream",
          "name": "stdout",
          "text": [
            "[5, 7, 9, 11, 13]\n"
          ]
        }
      ]
    },
    {
      "cell_type": "code",
      "source": [
        "#function with returns\n",
        "def add_numbers(a,b):\n",
        "  result = (a+b)\n",
        "  return result\n",
        "print(add_numbers(10,4))"
      ],
      "metadata": {
        "colab": {
          "base_uri": "https://localhost:8080/"
        },
        "id": "nU6iSpWk_odS",
        "outputId": "2e1b8522-52d1-4f06-86a3-3e81b766a324"
      },
      "execution_count": 22,
      "outputs": [
        {
          "output_type": "stream",
          "name": "stdout",
          "text": [
            "14\n"
          ]
        }
      ]
    },
    {
      "cell_type": "code",
      "source": [
        "\n",
        "#functions with defualt\n",
        "\n",
        "def greet(name,greeting ='hello'):\n",
        "     print(f\"{greeting}, {name}!\")"
      ],
      "metadata": {
        "id": "3kjoA0CaAsL7"
      },
      "execution_count": 24,
      "outputs": []
    },
    {
      "cell_type": "code",
      "source": [
        "#funtion with * args\n",
        "def calculate_sum(*args):\n",
        "  total =sum(args)\n",
        "  return total\n",
        "\n",
        "print(calculate_sum(1,2,3,4,5))"
      ],
      "metadata": {
        "colab": {
          "base_uri": "https://localhost:8080/"
        },
        "id": "XassuW5gBGkd",
        "outputId": "41c1c2d2-1d42-4f39-cca6-563f155edd56"
      },
      "execution_count": 25,
      "outputs": [
        {
          "output_type": "stream",
          "name": "stdout",
          "text": [
            "15\n"
          ]
        }
      ]
    },
    {
      "cell_type": "code",
      "source": [
        "#predefined correct usename and password\n",
        "\n",
        "correct_username = 'admin'\n",
        "correct_password = 'password123'\n",
        "while True:\n",
        "  username = input(\"Enter your username:\")\n",
        "  password = input (\"Enter your password:\")\n",
        "  if username == correct_username and password == correct_password:\n",
        "      print(\"login successful\")\n",
        "      break\n",
        "  else:\n",
        "      print(\"Invalid username and password. please tryagain!!\")\n"
      ],
      "metadata": {
        "colab": {
          "base_uri": "https://localhost:8080/"
        },
        "id": "fEGXRUvWDs3f",
        "outputId": "decf85ff-31c5-4cc2-d370-5f6e9402c8f1"
      },
      "execution_count": 27,
      "outputs": [
        {
          "output_type": "stream",
          "name": "stdout",
          "text": [
            "Enter your username:jai\n",
            "Enter your password:12234\n",
            "Invalid username and password. please tryagain!!\n",
            "Enter your username:admin\n",
            "Enter your password:password123\n",
            "login successful\n"
          ]
        }
      ]
    },
    {
      "cell_type": "code",
      "source": [
        "# Built-in function: len()\n",
        "my_string = \"Hello, world!\"\n",
        "string_length = len(my_string)\n",
        "print(f\"The length of the string is: {string_length}\")\n",
        "\n",
        "# User-defined function\n",
        "def greet(name):\n",
        "  \"\"\"This function greets the person passed in as a parameter.\"\"\"\n",
        "  print(f\"Hello, {name}!\")\n",
        "\n",
        "# Calling the user-defined function\n",
        "greet(\"Alice\")"
      ],
      "metadata": {
        "colab": {
          "base_uri": "https://localhost:8080/"
        },
        "id": "a-6DA5dgFxm2",
        "outputId": "cabe72bc-3159-42d6-9c61-3016abce43cc"
      },
      "execution_count": 28,
      "outputs": [
        {
          "output_type": "stream",
          "name": "stdout",
          "text": [
            "The length of the string is: 13\n",
            "Hello, Alice!\n"
          ]
        }
      ]
    },
    {
      "source": [
        "# Built-in data types\n",
        "my_integer = 10  # int\n",
        "my_float = 3.14  # float\n",
        "my_string = \"Hello\"  # str\n",
        "my_list = [1, 2, 3]  # list\n",
        "my_tuple = (4, 5, 6)  # tuple\n",
        "my_dictionary = {\"name\": \"Alice\", \"age\": 30}  # dict\n",
        "\n",
        "# User-defined data type (using a class)\n",
        "class Dog:\n",
        "  def __init__(self, name, breed):\n",
        "    self.name = name\n",
        "    self.breed = breed\n",
        "\n",
        "  def bark(self):\n",
        "    print(\"Woof!\")\n",
        "\n",
        "# Creating an instance of the user-defined data type\n",
        "my_dog = Dog(\"Buddy\", \"Golden Retriever\")\n",
        "\n",
        "# Accessing attributes and methods\n",
        "print(my_dog.name)\n",
        "print(my_dog.breed)\n",
        "my_dog.bark()"
      ],
      "cell_type": "code",
      "metadata": {
        "colab": {
          "base_uri": "https://localhost:8080/"
        },
        "id": "apPUMrMPGBvj",
        "outputId": "2ad78969-0c13-46b2-c19c-6dba70e26b68"
      },
      "execution_count": 29,
      "outputs": [
        {
          "output_type": "stream",
          "name": "stdout",
          "text": [
            "Buddy\n",
            "Golden Retriever\n",
            "Woof!\n"
          ]
        }
      ]
    },
    {
      "source": [
        "#assignment\n",
        "def sum_of_even_numbers(n):\n",
        "  total = 0\n",
        "  for i in range(2, n + 1, 2):  # Iterate from 2 to n with a step of 2\n",
        "    total += i\n",
        "  return total\n",
        "n = int(input(\"Enter a positive integer: \"))\n",
        "sum_even = sum_of_even_numbers(n)\n",
        "print(\"The sum of even numbers between 1 and\", n, \"is:\", sum_even)"
      ],
      "cell_type": "code",
      "metadata": {
        "colab": {
          "base_uri": "https://localhost:8080/"
        },
        "id": "tW37txGKGlr8",
        "outputId": "456ebd28-e316-4338-a47a-c078d499ee43"
      },
      "execution_count": 31,
      "outputs": [
        {
          "output_type": "stream",
          "name": "stdout",
          "text": [
            "Enter a positive integer: 5\n",
            "The sum of even numbers between 1 and 5 is: 6\n"
          ]
        }
      ]
    },
    {
      "cell_type": "code",
      "source": [],
      "metadata": {
        "id": "fpIUnyTcHCzE"
      },
      "execution_count": null,
      "outputs": []
    }
  ]
}