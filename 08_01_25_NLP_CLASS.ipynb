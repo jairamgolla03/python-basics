{
  "nbformat": 4,
  "nbformat_minor": 0,
  "metadata": {
    "colab": {
      "provenance": [],
      "gpuType": "T4",
      "authorship_tag": "ABX9TyPS4j1KRTAJyc0ObMTwCCWx",
      "include_colab_link": true
    },
    "kernelspec": {
      "name": "python3",
      "display_name": "Python 3"
    },
    "language_info": {
      "name": "python"
    },
    "accelerator": "GPU"
  },
  "cells": [
    {
      "cell_type": "markdown",
      "metadata": {
        "id": "view-in-github",
        "colab_type": "text"
      },
      "source": [
        "<a href=\"https://colab.research.google.com/github/jairamgolla03/python-basics/blob/main/08_01_25_NLP_CLASS.ipynb\" target=\"_parent\"><img src=\"https://colab.research.google.com/assets/colab-badge.svg\" alt=\"Open In Colab\"/></a>"
      ]
    },
    {
      "cell_type": "code",
      "execution_count": 3,
      "metadata": {
        "colab": {
          "base_uri": "https://localhost:8080/"
        },
        "id": "WmsEw8Actkhn",
        "outputId": "eb3a7527-1b19-4111-d038-25596c2eae29"
      },
      "outputs": [
        {
          "output_type": "stream",
          "name": "stdout",
          "text": [
            "predicted value for the year 2025: 400.00\n"
          ]
        }
      ],
      "source": [
        "from sklearn.linear_model import LinearRegression\n",
        "from sklearn.model_selection import train_test_split\n",
        "\n",
        "years = [[2015],[2016],[2017],[2018],[2019],[2020]]\n",
        "values = [200, 220, 240, 260, 280, 300]\n",
        "\n",
        "\n",
        "#step1: split the data into training and testing sets (80%,20%)\n",
        "years_train,years_test, values_train, values_test = train_test_split(years, values, test_size=0.2, random_state=42);\n",
        "\n",
        "#step2: create and train the linear regression model on the training data\n",
        "model = LinearRegression()\n",
        "model.fit(years_train, values_train)\n",
        "\n",
        "#step3: predict future value for the year 2025\n",
        "future_year = [[2025]]\n",
        "predicted_value = model.predict(future_year)\n",
        "\n",
        "from sklearn.linear_model import LinearRegression\n",
        "from sklearn.model_selection import train_test_split\n",
        "\n",
        "years = [[2015],[2016],[2017],[2018],[2019],[2020]]\n",
        "values = [200, 220, 240, 260, 280, 300]\n",
        "\n",
        "\n",
        "#step1: split the data into training and testing sets (80%,20%)\n",
        "years_train,years_test, values_train, values_test = train_test_split(years, values, test_size=0.2, random_state=42);\n",
        "\n",
        "#step2: create and train the linear regression model on the training data\n",
        "model = LinearRegression()\n",
        "model.fit(years_train, values_train)\n",
        "\n",
        "#step3: predict future value for the year 2025\n",
        "future_year = [[2025]]\n",
        "predicted_value = model.predict(future_year)\n",
        "\n",
        "\n",
        "#step4:output the orediction of 2025\n",
        "print(f\"predicted value for the year {future_year[0][0]}: {predicted_value[0]:.2f}\")"
      ]
    },
    {
      "cell_type": "code",
      "source": [],
      "metadata": {
        "id": "njFlY7_T16JA"
      },
      "execution_count": null,
      "outputs": []
    }
  ]
}